{
  "cells": [
    {
      "cell_type": "markdown",
      "metadata": {},
      "source": [
        "\n# Subset Simulation for a SDOF resonance problem\n\nHere, the Modified Metropolis Hastings Algorithm for MCMC is compared to the Affine Invariant Ensemble sampler for\nMCMC in subset simulation to estimate probability of failure of a single degree of freedom system subjected to\nharmonic excitation with a given frequency.\n\n## Problem Definition\nA stochastic single degree of freedom system having stiffness $k\\sim N(\\mu_k,\\sigma_k)$ and mass\n$m\\sim N(\\mu_m,\\sigma_m)$ is excited by a sinusoidal load with frequency $\\omega \\ rad/sec$.\nThe system is undamped and has equation of motion given by:\n\n\\begin{align}`m\\ddot{u}+ku=sin(\\omega t)`\\end{align}\n\nResonance occurs when the natural frequency of the system $\\omega_n=\\sqrt{\\dfrac{k}{m}}=\\omega \\ rad/sec$.\nTo avoid resonance, we consider failure of the system to be associated with the natural frequency being within a\nthreshold, $\\epsilon$ of the excitation frequency $\\omega$. That is, failure of the system occurs when\n$\\omega-\\epsilon\\le\\sqrt{\\dfrac{k}{m}}\\le\\omega+\\epsilon$.\n"
      ]
    },
    {
      "cell_type": "markdown",
      "metadata": {},
      "source": [
        "1. Import the necessary libraries\n\n"
      ]
    },
    {
      "cell_type": "code",
      "execution_count": null,
      "metadata": {
        "collapsed": false
      },
      "outputs": [],
      "source": [
        "import shutil\n\nfrom UQpy import PythonModel\nfrom UQpy.reliability import SubsetSimulation\nfrom UQpy.run_model.RunModel import RunModel\nfrom UQpy.sampling import Stretch, ModifiedMetropolisHastings, MonteCarloSampling\nimport numpy as np\nimport scipy.stats as stats\nimport matplotlib.pyplot as plt\nfrom UQpy.distributions import Normal, JointIndependent, MultivariateNormal"
      ]
    },
    {
      "cell_type": "markdown",
      "metadata": {},
      "source": [
        "Set Parameters\n\n$\\omega=5$\n\n$\\epsilon = 0.0001$\n\n$\\mu_k=125$\n\n$\\sigma_k=20$\n\n$\\mu_m=5$\n\n$\\sigma_m=1$\n\n"
      ]
    },
    {
      "cell_type": "code",
      "execution_count": null,
      "metadata": {
        "collapsed": false
      },
      "outputs": [],
      "source": [
        "omega = 6\nepsilon = 0.0001\nmu_m = 5\nsigma_m = 1\nmu_k = 125\nsigma_k = 20\nm = np.linspace(mu_m - 3 * sigma_m, mu_m + 3 * sigma_m, 101)\nk_hi = (omega - epsilon) ** 2 * m\nk_lo = (omega + epsilon) ** 2 * m"
      ]
    },
    {
      "cell_type": "markdown",
      "metadata": {},
      "source": [
        "Plot the failure domain\n\n"
      ]
    },
    {
      "cell_type": "code",
      "execution_count": null,
      "metadata": {
        "collapsed": false
      },
      "outputs": [],
      "source": [
        "x = np.linspace(2, 8, 1000)\ny = np.linspace(25, 225, 1000)\n\nX, Y = np.meshgrid(x, y)\nZ = np.zeros((1000, 1000))\n\nd1 = Normal(loc=5, scale=1)\nd2 = Normal(loc=125, scale=20)\n\ndist = JointIndependent(marginals=[d1, d2])\n\nfor i in range(len(x)):\n    Z[i, :] = dist.pdf(np.append(np.atleast_2d(X[i, :]), np.atleast_2d(Y[i, :]), 0).T)\n\nfig, ax = plt.subplots()\nCS = ax.contour(X, Y, Z, 15)\nplt.plot(m, k_hi, 'k')\nplt.plot(m, k_lo, 'k')\n# plt.fill_between(m,k_lo,k_hi)\nplt.xlim([mu_m - 3 * sigma_m, mu_m + 3 * sigma_m])\nplt.ylim([mu_k - 3 * sigma_k, mu_k + 3 * sigma_k])\nplt.xlabel(r'Mass ($m$)')\nplt.ylabel(r'Stiffness ($k$)')\nplt.grid(True)\nplt.tight_layout()\nplt.show()\n\nfig, ax = plt.subplots()\nCS = ax.contour(X, Y, Z, 15)\nplt.plot(m, k_hi, 'k')\nplt.plot(m, k_lo, 'k')\n# plt.fill_between(m,k_lo,k_hi)\nplt.xlim([3.5, 4.5])\nplt.ylim([130, 150])\nplt.xlabel(r'Mass ($m$)')\nplt.ylabel(r'Stiffness ($k$)')\nplt.grid(True)\nplt.tight_layout()\nplt.show()\n\nm = PythonModel(model_script='local_Resonance_pfn.py', model_object_name=\"RunPythonModel\")\nmodel = RunModel(model=m)"
      ]
    },
    {
      "cell_type": "markdown",
      "metadata": {},
      "source": [
        "Monte Carlo Simulation\n\n"
      ]
    },
    {
      "cell_type": "code",
      "execution_count": null,
      "metadata": {
        "collapsed": false
      },
      "outputs": [],
      "source": [
        "x_mcs = MonteCarloSampling(distributions=[d1, d2])\nx_mcs.run(nsamples=1000000)\n\nmodel.run(samples=x_mcs.samples)\n\nA = np.asarray(model.qoi_list) < 0\npf = np.shape(np.asarray(model.qoi_list)[np.asarray(model.qoi_list) < 0])[0] / 1000000\nprint(pf)\n\nntrials = 1\npf_stretch = np.zeros((ntrials, 1))\ncov1_stretch = np.zeros((ntrials, 1))\ncov2_stretch = np.zeros((ntrials, 1))\nm = np.ones(2)\nm[0] = 5\nm[1] = 125\nC = np.eye(2)\nC[0, 0] = 1\nC[1, 1] = 20 ** 2\n\nfor i in range(ntrials):\n    m1 = PythonModel(model_script='local_Resonance_pfn.py', model_object_name=\"RunPythonModel\")\n    model = RunModel(model=m1)\n    dist = MultivariateNormal(mean=m, cov=C)\n    xx = dist.rvs(nsamples=1000, random_state=123)\n    xx1 = dist.rvs(nsamples=100, random_state=123)\n\n    sampling=Stretch(dimension=2, n_chains=100, log_pdf_target=dist.log_pdf)\n    x_ss_stretch = SubsetSimulation(sampling=sampling, runmodel_object=model, conditional_probability=0.1,\n                                    nsamples_per_subset=1000, samples_init=xx, )\n    pf_stretch[i] = x_ss_stretch.failure_probability\n    cov1_stretch[i] = x_ss_stretch.independent_chains_CoV\n    cov2_stretch[i] = x_ss_stretch.dependent_chains_CoV\n\nprint(pf_stretch)\nprint(np.mean(pf_stretch, 0))\nb_stretch = -stats.norm.ppf(pf_stretch)\nprint(np.mean(b_stretch, 0))\nprint(stats.variation(b_stretch))\n\n\nfor i in range(len(x_ss_stretch.performance_function_per_level)):\n    plt.scatter(x_ss_stretch.samples[i][:, 0], x_ss_stretch.samples[i][:, 1], marker='o')\n\nplt.xlim([mu_m - 3 * sigma_m, mu_m + 3 * sigma_m])\nplt.ylim([mu_k - 3 * sigma_k, mu_k + 3 * sigma_k])\nplt.xlabel(r'Mass ($m$)')\nplt.ylabel(r'Stiffness ($k$)')\nplt.grid(True)\nplt.tight_layout()\nplt.show()\n\n\nntrials = 100\npf_mmh = np.zeros((ntrials, 1))\ncov1_mmh = np.zeros((ntrials, 1))\ncov2_mmh = np.zeros((ntrials, 1))\nm = np.ones(2)\nm[0] = 5\nm[1] = 125\nC = np.eye(2)\nC[0, 0] = 1\nC[1, 1] = 20 ** 2\n\nfor i in range(ntrials):\n    m1 = PythonModel(model_script='local_Resonance_pfn.py', model_object_name=\"RunPythonModel\")\n    model = RunModel(model=m1)\n    dist = MultivariateNormal(mean=m, cov=C)\n    xx = dist.rvs(nsamples=1000, random_state=123)\n    xx1 = dist.rvs(nsamples=100, random_state=123)\n\n    sampling = ModifiedMetropolisHastings(dimension=2, n_chains=100, log_pdf_target=dist.log_pdf)\n    x_ss_mmh = SubsetSimulation(sampling=sampling, runmodel_object=model, conditional_probability=0.1,\n                                nsamples_per_subset=1000, samples_init=xx)\n\n    pf_mmh[i] = x_ss_mmh.failure_probability\n    cov1_mmh[i] = x_ss_mmh.independent_chains_CoV\n    cov2_mmh[i] = x_ss_mmh.dependent_chains_CoV\n\npf_mmh[pf_mmh == 0] = 1e-100\nprint(np.mean(pf_mmh, 0))\nb_mmh = -stats.norm.ppf(pf_mmh)\nprint(np.mean(b_mmh, 0))\nprint(stats.variation(b_mmh))\n\n\nfor i in range(len(x_ss_mmh.performance_function_per_level)):\n    plt.scatter(x_ss_mmh.samples[i][:, 0], x_ss_mmh.samples[i][:, 1], marker='o')\n\nplt.xlim([mu_m - 3 * sigma_m, mu_m + 3 * sigma_m])\nplt.ylim([mu_k - 3 * sigma_k, mu_k + 3 * sigma_k])\nplt.xlabel(r'Mass ($m$)')\nplt.ylabel(r'Stiffness ($k$)')\nplt.grid(True)\nplt.tight_layout()\nplt.show()"
      ]
    }
  ],
  "metadata": {
    "kernelspec": {
      "display_name": "Python 3",
      "language": "python",
      "name": "python3"
    },
    "language_info": {
      "codemirror_mode": {
        "name": "ipython",
        "version": 3
      },
      "file_extension": ".py",
      "mimetype": "text/x-python",
      "name": "python",
      "nbconvert_exporter": "python",
      "pygments_lexer": "ipython3",
      "version": "3.9.17"
    }
  },
  "nbformat": 4,
  "nbformat_minor": 0
}