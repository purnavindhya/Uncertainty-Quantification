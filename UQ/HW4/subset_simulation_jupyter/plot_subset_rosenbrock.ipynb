{
  "cells": [
    {
      "cell_type": "markdown",
      "metadata": {},
      "source": [
        "\n# Rosenbrock performance function\n"
      ]
    },
    {
      "cell_type": "markdown",
      "metadata": {},
      "source": [
        "1. Import the necessary libraries\n\n"
      ]
    },
    {
      "cell_type": "code",
      "execution_count": null,
      "metadata": {
        "collapsed": false
      },
      "outputs": [],
      "source": [
        "import matplotlib.pyplot as plt\nimport numpy as np\nimport scipy.stats as stats\n\nfrom UQpy import PythonModel\n# Import this newly defined Rosenbrock distribution into the Distributions module\nfrom UQpy.distributions import Normal\nfrom UQpy.reliability import SubsetSimulation\nfrom UQpy.run_model.RunModel import RunModel\nfrom UQpy.sampling import ModifiedMetropolisHastings, Stretch\n# First import the file that contains the newly defined Rosenbrock distribution\nfrom local_Rosenbrock import Rosenbrock"
      ]
    },
    {
      "cell_type": "markdown",
      "metadata": {},
      "source": [
        ":class:`.ModifiedMetropolisHastings` Initial Samples\n\n"
      ]
    },
    {
      "cell_type": "code",
      "execution_count": null,
      "metadata": {
        "collapsed": false
      },
      "outputs": [],
      "source": [
        "m = PythonModel(model_script='local_Rosenbrock_pfn.py', model_object_name=\"RunPythonModel\")\nmodel = RunModel(model=m)\ndist = Rosenbrock(p=100.)\ndist_prop1 = Normal(loc=0, scale=1)\ndist_prop2 = Normal(loc=0, scale=10)\n\nx = stats.norm.rvs(loc=0, scale=1, size=(100, 2), random_state=83276)\n\nmcmc_init1 = ModifiedMetropolisHastings(dimension=2, log_pdf_target=dist.log_pdf, seed=x.tolist(),\n                                                           burn_length=1000, proposal=[dist_prop1, dist_prop2],\n                                                           random_state=8765)\nmcmc_init1.run(10000)\n\nsampling=Stretch(log_pdf_target=dist.log_pdf, dimension=2, n_chains=1000, random_state=38546)\nx_ss_MMH = SubsetSimulation(sampling=sampling, runmodel_object=model, conditional_probability=0.1,\n                            nsamples_per_subset=10000, samples_init=mcmc_init1.samples)\n\nfor i in range(len(x_ss_MMH.performance_function_per_level)):\n    plt.scatter(x_ss_MMH.samples[i][:, 0], x_ss_MMH.samples[i][:, 1], marker='o')\nplt.grid(True)\nplt.xlabel(r'$X_1$')\nplt.ylabel(r'$X_2$')\nplt.yticks(np.arange(-20, 180, step=20))\nplt.xlim((-10, 15))\nplt.tight_layout()\nplt.show()\n\n\nprint(x_ss_MMH.failure_probability)"
      ]
    },
    {
      "cell_type": "markdown",
      "metadata": {},
      "source": [
        ":class:`.Stretch` Initial Samples\n\n"
      ]
    },
    {
      "cell_type": "code",
      "execution_count": null,
      "metadata": {
        "collapsed": false
      },
      "outputs": [],
      "source": [
        "m = PythonModel(model_script='local_Rosenbrock_pfn.py', model_object_name=\"RunPythonModel\")\nmodel = RunModel(model=m)\ndist = Rosenbrock(p=100.)\n\nx = stats.norm.rvs(loc=0, scale=1, size=(100, 2), random_state=83276)\n\nmcmc_init2 = Stretch(dimension=2, log_pdf_target=dist.log_pdf, seed=x.tolist(),\n                                                burn_length=1000, random_state=8765)\nmcmc_init2.run(10000)\n\nsampling=Stretch(log_pdf_target=dist.log_pdf, dimension=2, n_chains=1000, random_state=83456)\nx_ss_Stretch = SubsetSimulation(sampling=sampling, runmodel_object=model, conditional_probability=0.1,\n                                nsamples_per_subset=10000, samples_init=mcmc_init2.samples)\n\nfor i in range(len(x_ss_Stretch.performance_function_per_level)):\n    plt.scatter(x_ss_Stretch.samples[i][:, 0], x_ss_Stretch.samples[i][:, 1], marker='o')\nplt.grid(True)\nplt.xlabel(r'$X_1$')\nplt.ylabel(r'$X_2$')\nplt.yticks(np.arange(-20, 180, step=20))\nplt.xlim((-10, 15))\nplt.tight_layout()\nplt.show()\n\nprint(x_ss_Stretch.failure_probability)\n\n\nplt.figure()\nplt.plot(mcmc_init2.samples[:, 0], mcmc_init2.samples[:, 1], 'o')\nplt.plot(mcmc_init1.samples[:, 0], mcmc_init1.samples[:, 1], 'x')\nplt.grid(True)\nplt.xlabel(r'$X_1$')\nplt.ylabel(r'$X_2$')\nplt.yticks(np.arange(-20, 180, step=20))\nplt.xlim((-10, 15))\nplt.tight_layout()\nplt.show()"
      ]
    }
  ],
  "metadata": {
    "kernelspec": {
      "display_name": "Python 3",
      "language": "python",
      "name": "python3"
    },
    "language_info": {
      "codemirror_mode": {
        "name": "ipython",
        "version": 3
      },
      "file_extension": ".py",
      "mimetype": "text/x-python",
      "name": "python",
      "nbconvert_exporter": "python",
      "pygments_lexer": "ipython3",
      "version": "3.9.17"
    }
  },
  "nbformat": 4,
  "nbformat_minor": 0
}